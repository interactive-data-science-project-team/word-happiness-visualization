{
 "cells": [
  {
   "cell_type": "code",
   "execution_count": 106,
   "metadata": {},
   "outputs": [],
   "source": [
    "from sklearn import preprocessing\n",
    "from scipy import stats \n",
    "from sklearn.linear_model import Lasso\n",
    "import statsmodels.api as sm\n",
    "from scipy import stats\n",
    "import pandas as pd\n",
    "import statsmodels.formula.api as smf\n",
    "import numpy as np\n",
    "import matplotlib.pyplot as plt"
   ]
  },
  {
   "cell_type": "code",
   "execution_count": 137,
   "metadata": {},
   "outputs": [],
   "source": [
    "data = pd.read_csv('../input/cleaned_data.csv')\n",
    "data = data.drop(columns=['GINI index (World Bank estimate), average 2000-15'])"
   ]
  },
  {
   "cell_type": "code",
   "execution_count": 143,
   "metadata": {},
   "outputs": [
    {
     "data": {
      "text/plain": [
       "Index(['Log GDP per capita', 'Social support',\n",
       "       'Healthy life expectancy at birth', 'Freedom to make life choices',\n",
       "       'Generosity', 'Perceptions of corruption', 'Positive affect',\n",
       "       'Negative affect', 'Confidence in national government',\n",
       "       'Democratic Quality', 'Delivery Quality'],\n",
       "      dtype='object')"
      ]
     },
     "execution_count": 143,
     "metadata": {},
     "output_type": "execute_result"
    }
   ],
   "source": [
    "data.drop(columns=['Happiness Score',\n",
    "                       'country', \n",
    "                       'year',\n",
    "                       'Standard deviation of happiness score by country-year',\n",
    "                       'Standard deviation/Mean of happiness score by country-year', \n",
    "                       'gini of household income reported in Gallup, by wp5-year']).columns"
   ]
  },
  {
   "cell_type": "code",
   "execution_count": 146,
   "metadata": {},
   "outputs": [],
   "source": [
    "data = data.dropna()\n",
    "\n",
    "X = data.drop(columns=['Happiness Score',\n",
    "                       'country', \n",
    "                       'year',\n",
    "                       'Standard deviation of happiness score by country-year',\n",
    "                       'Standard deviation/Mean of happiness score by country-year', \n",
    "                       'gini of household income reported in Gallup, by wp5-year'])\n",
    "\n",
    "shortened_cols = ['log_GDP',\n",
    "                  'social_support', \n",
    "                 'life_expectancy', \n",
    "                 'freedom', \n",
    "                 'generosity', \n",
    "                 'corruption', \n",
    "                 'positive_affect', \n",
    "                 'negative_affect',\n",
    "                 'government_trust',\n",
    "                 'democratic_quality',\n",
    "                 'delivery_quality',\n",
    "                 ]\n",
    "\n",
    "X.columns = shortened_cols\n",
    "\n",
    "X_scaled = X.apply(lambda c: (c - c.min()) / (c.max() - c.min()))\n",
    "\n",
    "y = data['Happiness Score']"
   ]
  },
  {
   "cell_type": "code",
   "execution_count": 147,
   "metadata": {},
   "outputs": [
    {
     "data": {
      "text/html": [
       "<div>\n",
       "<style scoped>\n",
       "    .dataframe tbody tr th:only-of-type {\n",
       "        vertical-align: middle;\n",
       "    }\n",
       "\n",
       "    .dataframe tbody tr th {\n",
       "        vertical-align: top;\n",
       "    }\n",
       "\n",
       "    .dataframe thead th {\n",
       "        text-align: right;\n",
       "    }\n",
       "</style>\n",
       "<table border=\"1\" class=\"dataframe\">\n",
       "  <thead>\n",
       "    <tr style=\"text-align: right;\">\n",
       "      <th></th>\n",
       "      <th>log_GDP</th>\n",
       "      <th>social_support</th>\n",
       "      <th>life_expectancy</th>\n",
       "      <th>freedom</th>\n",
       "      <th>generosity</th>\n",
       "      <th>corruption</th>\n",
       "      <th>positive_affect</th>\n",
       "      <th>negative_affect</th>\n",
       "      <th>government_trust</th>\n",
       "      <th>democratic_quality</th>\n",
       "      <th>delivery_quality</th>\n",
       "    </tr>\n",
       "  </thead>\n",
       "  <tbody>\n",
       "    <tr>\n",
       "      <th>0</th>\n",
       "      <td>0.146729</td>\n",
       "      <td>0.230189</td>\n",
       "      <td>0.295157</td>\n",
       "      <td>0.632975</td>\n",
       "      <td>0.504406</td>\n",
       "      <td>0.892847</td>\n",
       "      <td>0.266965</td>\n",
       "      <td>0.324501</td>\n",
       "      <td>0.587459</td>\n",
       "      <td>0.077887</td>\n",
       "      <td>0.047705</td>\n",
       "    </tr>\n",
       "    <tr>\n",
       "      <th>1</th>\n",
       "      <td>0.177344</td>\n",
       "      <td>0.375989</td>\n",
       "      <td>0.305855</td>\n",
       "      <td>0.579078</td>\n",
       "      <td>0.526185</td>\n",
       "      <td>0.859462</td>\n",
       "      <td>0.381035</td>\n",
       "      <td>0.282714</td>\n",
       "      <td>0.586890</td>\n",
       "      <td>0.047483</td>\n",
       "      <td>0.052680</td>\n",
       "    </tr>\n",
       "    <tr>\n",
       "      <th>2</th>\n",
       "      <td>0.187142</td>\n",
       "      <td>0.357007</td>\n",
       "      <td>0.315773</td>\n",
       "      <td>0.470826</td>\n",
       "      <td>0.460249</td>\n",
       "      <td>0.708347</td>\n",
       "      <td>0.440127</td>\n",
       "      <td>0.358417</td>\n",
       "      <td>0.249329</td>\n",
       "      <td>0.061378</td>\n",
       "      <td>0.057106</td>\n",
       "    </tr>\n",
       "    <tr>\n",
       "      <th>3</th>\n",
       "      <td>0.192406</td>\n",
       "      <td>0.331229</td>\n",
       "      <td>0.325016</td>\n",
       "      <td>0.327588</td>\n",
       "      <td>0.497920</td>\n",
       "      <td>0.734022</td>\n",
       "      <td>0.428291</td>\n",
       "      <td>0.342281</td>\n",
       "      <td>0.258010</td>\n",
       "      <td>0.080722</td>\n",
       "      <td>0.057343</td>\n",
       "    </tr>\n",
       "    <tr>\n",
       "      <th>4</th>\n",
       "      <td>0.211340</td>\n",
       "      <td>0.330559</td>\n",
       "      <td>0.333836</td>\n",
       "      <td>0.375735</td>\n",
       "      <td>0.569698</td>\n",
       "      <td>0.780971</td>\n",
       "      <td>0.598646</td>\n",
       "      <td>0.343755</td>\n",
       "      <td>0.396472</td>\n",
       "      <td>0.100926</td>\n",
       "      <td>0.109956</td>\n",
       "    </tr>\n",
       "  </tbody>\n",
       "</table>\n",
       "</div>"
      ],
      "text/plain": [
       "    log_GDP  social_support  life_expectancy   freedom  generosity  \\\n",
       "0  0.146729        0.230189         0.295157  0.632975    0.504406   \n",
       "1  0.177344        0.375989         0.305855  0.579078    0.526185   \n",
       "2  0.187142        0.357007         0.315773  0.470826    0.460249   \n",
       "3  0.192406        0.331229         0.325016  0.327588    0.497920   \n",
       "4  0.211340        0.330559         0.333836  0.375735    0.569698   \n",
       "\n",
       "   corruption  positive_affect  negative_affect  government_trust  \\\n",
       "0    0.892847         0.266965         0.324501          0.587459   \n",
       "1    0.859462         0.381035         0.282714          0.586890   \n",
       "2    0.708347         0.440127         0.358417          0.249329   \n",
       "3    0.734022         0.428291         0.342281          0.258010   \n",
       "4    0.780971         0.598646         0.343755          0.396472   \n",
       "\n",
       "   democratic_quality  delivery_quality  \n",
       "0            0.077887          0.047705  \n",
       "1            0.047483          0.052680  \n",
       "2            0.061378          0.057106  \n",
       "3            0.080722          0.057343  \n",
       "4            0.100926          0.109956  "
      ]
     },
     "execution_count": 147,
     "metadata": {},
     "output_type": "execute_result"
    }
   ],
   "source": [
    "X_scaled.head()"
   ]
  },
  {
   "cell_type": "code",
   "execution_count": 148,
   "metadata": {},
   "outputs": [
    {
     "data": {
      "text/plain": [
       "'log_GDP+social_support+life_expectancy+freedom+generosity+corruption+positive_affect+negative_affect+government_trust+democratic_quality+delivery_quality'"
      ]
     },
     "execution_count": 148,
     "metadata": {},
     "output_type": "execute_result"
    }
   ],
   "source": [
    "# build ols formula\n",
    "f = '+'.join(shortened_cols)\n",
    "\n",
    "f"
   ]
  },
  {
   "cell_type": "code",
   "execution_count": 149,
   "metadata": {},
   "outputs": [
    {
     "name": "stdout",
     "output_type": "stream",
     "text": [
      "                            OLS Regression Results                            \n",
      "==============================================================================\n",
      "Dep. Variable:                      y   R-squared:                       0.776\n",
      "Model:                            OLS   Adj. R-squared:                  0.774\n",
      "Method:                 Least Squares   F-statistic:                     451.9\n",
      "Date:                Fri, 07 Dec 2018   Prob (F-statistic):               0.00\n",
      "Time:                        18:48:50   Log-Likelihood:                -1156.9\n",
      "No. Observations:                1447   AIC:                             2338.\n",
      "Df Residuals:                    1435   BIC:                             2401.\n",
      "Df Model:                          11                                         \n",
      "Covariance Type:            nonrobust                                         \n",
      "======================================================================================\n",
      "                         coef    std err          t      P>|t|      [0.025      0.975]\n",
      "--------------------------------------------------------------------------------------\n",
      "Intercept              2.7758      0.161     17.280      0.000       2.461       3.091\n",
      "social_support         1.2105      0.129      9.360      0.000       0.957       1.464\n",
      "life_expectancy        0.9678      0.135      7.164      0.000       0.703       1.233\n",
      "freedom                0.6192      0.115      5.368      0.000       0.393       0.845\n",
      "generosity             0.3123      0.103      3.028      0.003       0.110       0.515\n",
      "corruption            -0.8114      0.109     -7.472      0.000      -1.024      -0.598\n",
      "positive_affect        1.2511      0.109     11.495      0.000       1.038       1.465\n",
      "negative_affect       -0.0058      0.104     -0.056      0.956      -0.211       0.199\n",
      "government_trust      -0.7139      0.095     -7.498      0.000      -0.901      -0.527\n",
      "democratic_quality    -0.2951      0.146     -2.015      0.044      -0.582      -0.008\n",
      "delivery_quality       0.3123      0.177      1.768      0.077      -0.034       0.659\n",
      "log_GDP                1.6296      0.155     10.527      0.000       1.326       1.933\n",
      "==============================================================================\n",
      "Omnibus:                       25.522   Durbin-Watson:                   0.669\n",
      "Prob(Omnibus):                  0.000   Jarque-Bera (JB):               27.804\n",
      "Skew:                          -0.285   Prob(JB):                     9.17e-07\n",
      "Kurtosis:                       3.371   Cond. No.                         35.9\n",
      "==============================================================================\n",
      "\n",
      "Warnings:\n",
      "[1] Standard Errors assume that the covariance matrix of the errors is correctly specified.\n"
     ]
    }
   ],
   "source": [
    "# regression using OLS\n",
    "\n",
    "ols_train = X_scaled.copy()\n",
    "ols_train['y'] = y\n",
    "\n",
    "results = smf.ols('y ~ social_support+life_expectancy+freedom+generosity+corruption+positive_affect+negative_affect+government_trust+democratic_quality+delivery_quality+log_GDP', data=ols_train).fit()\n",
    "print(results.summary())"
   ]
  },
  {
   "cell_type": "code",
   "execution_count": 150,
   "metadata": {},
   "outputs": [
    {
     "name": "stdout",
     "output_type": "stream",
     "text": [
      "intercept: 2.7757757057856036\n",
      "intercept: 2.580215709725384\n",
      "intercept: 3.4609670092013403\n",
      "intercept: 4.206881526179058\n",
      "intercept: 4.5145053107731\n",
      "intercept: 4.812617490189464\n",
      "intercept: 5.110734988088876\n",
      "intercept: 5.383247236893388\n",
      "intercept: 5.431165826839666\n",
      "intercept: 5.431165826839666\n"
     ]
    },
    {
     "name": "stderr",
     "output_type": "stream",
     "text": [
      "/Library/Frameworks/Python.framework/Versions/3.7/lib/python3.7/site-packages/ipykernel_launcher.py:6: UserWarning: With alpha=0, this algorithm does not converge well. You are advised to use the LinearRegression estimator\n",
      "  \n",
      "/Library/Frameworks/Python.framework/Versions/3.7/lib/python3.7/site-packages/sklearn/linear_model/coordinate_descent.py:477: UserWarning: Coordinate descent with no regularization may lead to unexpected results and is discouraged.\n",
      "  positive)\n",
      "/Library/Frameworks/Python.framework/Versions/3.7/lib/python3.7/site-packages/sklearn/linear_model/coordinate_descent.py:491: ConvergenceWarning: Objective did not converge. You might want to increase the number of iterations. Fitting data with very small alpha may cause precision problems.\n",
      "  ConvergenceWarning)\n"
     ]
    },
    {
     "data": {
      "text/html": [
       "<div>\n",
       "<style scoped>\n",
       "    .dataframe tbody tr th:only-of-type {\n",
       "        vertical-align: middle;\n",
       "    }\n",
       "\n",
       "    .dataframe tbody tr th {\n",
       "        vertical-align: top;\n",
       "    }\n",
       "\n",
       "    .dataframe thead th {\n",
       "        text-align: right;\n",
       "    }\n",
       "</style>\n",
       "<table border=\"1\" class=\"dataframe\">\n",
       "  <thead>\n",
       "    <tr style=\"text-align: right;\">\n",
       "      <th></th>\n",
       "      <th>corruption</th>\n",
       "      <th>delivery_quality</th>\n",
       "      <th>democratic_quality</th>\n",
       "      <th>freedom</th>\n",
       "      <th>generosity</th>\n",
       "      <th>government_trust</th>\n",
       "      <th>life_expectancy</th>\n",
       "      <th>log_GDP</th>\n",
       "      <th>negative_affect</th>\n",
       "      <th>positive_affect</th>\n",
       "      <th>score</th>\n",
       "      <th>social_support</th>\n",
       "    </tr>\n",
       "    <tr>\n",
       "      <th>alpha</th>\n",
       "      <th></th>\n",
       "      <th></th>\n",
       "      <th></th>\n",
       "      <th></th>\n",
       "      <th></th>\n",
       "      <th></th>\n",
       "      <th></th>\n",
       "      <th></th>\n",
       "      <th></th>\n",
       "      <th></th>\n",
       "      <th></th>\n",
       "      <th></th>\n",
       "    </tr>\n",
       "  </thead>\n",
       "  <tbody>\n",
       "    <tr>\n",
       "      <th>-0.000000</th>\n",
       "      <td>-0.811437</td>\n",
       "      <td>0.312306</td>\n",
       "      <td>-0.295121</td>\n",
       "      <td>0.619180</td>\n",
       "      <td>0.31231</td>\n",
       "      <td>-0.713922</td>\n",
       "      <td>0.967763</td>\n",
       "      <td>1.629650</td>\n",
       "      <td>-0.005801</td>\n",
       "      <td>1.251103</td>\n",
       "      <td>0.775980</td>\n",
       "      <td>1.210533</td>\n",
       "    </tr>\n",
       "    <tr>\n",
       "      <th>-0.027778</th>\n",
       "      <td>-0.000000</td>\n",
       "      <td>0.687434</td>\n",
       "      <td>0.000000</td>\n",
       "      <td>0.171679</td>\n",
       "      <td>0.00000</td>\n",
       "      <td>-0.000000</td>\n",
       "      <td>0.768375</td>\n",
       "      <td>1.521843</td>\n",
       "      <td>-0.000000</td>\n",
       "      <td>1.006211</td>\n",
       "      <td>0.732536</td>\n",
       "      <td>0.716528</td>\n",
       "    </tr>\n",
       "    <tr>\n",
       "      <th>-0.055556</th>\n",
       "      <td>-0.000000</td>\n",
       "      <td>0.794814</td>\n",
       "      <td>0.000000</td>\n",
       "      <td>0.000000</td>\n",
       "      <td>0.00000</td>\n",
       "      <td>-0.000000</td>\n",
       "      <td>0.418313</td>\n",
       "      <td>1.569745</td>\n",
       "      <td>-0.000000</td>\n",
       "      <td>0.579459</td>\n",
       "      <td>0.649995</td>\n",
       "      <td>0.224025</td>\n",
       "    </tr>\n",
       "    <tr>\n",
       "      <th>-0.083333</th>\n",
       "      <td>-0.000000</td>\n",
       "      <td>0.845957</td>\n",
       "      <td>0.000000</td>\n",
       "      <td>0.000000</td>\n",
       "      <td>0.00000</td>\n",
       "      <td>-0.000000</td>\n",
       "      <td>0.046535</td>\n",
       "      <td>1.529350</td>\n",
       "      <td>-0.000000</td>\n",
       "      <td>0.000000</td>\n",
       "      <td>0.525818</td>\n",
       "      <td>0.000000</td>\n",
       "    </tr>\n",
       "    <tr>\n",
       "      <th>-0.111111</th>\n",
       "      <td>-0.000000</td>\n",
       "      <td>0.689129</td>\n",
       "      <td>0.000000</td>\n",
       "      <td>0.000000</td>\n",
       "      <td>0.00000</td>\n",
       "      <td>-0.000000</td>\n",
       "      <td>0.000000</td>\n",
       "      <td>1.137460</td>\n",
       "      <td>-0.000000</td>\n",
       "      <td>0.000000</td>\n",
       "      <td>0.436477</td>\n",
       "      <td>0.000000</td>\n",
       "    </tr>\n",
       "  </tbody>\n",
       "</table>\n",
       "</div>"
      ],
      "text/plain": [
       "           corruption  delivery_quality  democratic_quality   freedom  \\\n",
       "alpha                                                                   \n",
       "-0.000000   -0.811437          0.312306           -0.295121  0.619180   \n",
       "-0.027778   -0.000000          0.687434            0.000000  0.171679   \n",
       "-0.055556   -0.000000          0.794814            0.000000  0.000000   \n",
       "-0.083333   -0.000000          0.845957            0.000000  0.000000   \n",
       "-0.111111   -0.000000          0.689129            0.000000  0.000000   \n",
       "\n",
       "           generosity  government_trust  life_expectancy   log_GDP  \\\n",
       "alpha                                                                \n",
       "-0.000000     0.31231         -0.713922         0.967763  1.629650   \n",
       "-0.027778     0.00000         -0.000000         0.768375  1.521843   \n",
       "-0.055556     0.00000         -0.000000         0.418313  1.569745   \n",
       "-0.083333     0.00000         -0.000000         0.046535  1.529350   \n",
       "-0.111111     0.00000         -0.000000         0.000000  1.137460   \n",
       "\n",
       "           negative_affect  positive_affect     score  social_support  \n",
       "alpha                                                                  \n",
       "-0.000000        -0.005801         1.251103  0.775980        1.210533  \n",
       "-0.027778        -0.000000         1.006211  0.732536        0.716528  \n",
       "-0.055556        -0.000000         0.579459  0.649995        0.224025  \n",
       "-0.083333        -0.000000         0.000000  0.525818        0.000000  \n",
       "-0.111111        -0.000000         0.000000  0.436477        0.000000  "
      ]
     },
     "execution_count": 150,
     "metadata": {},
     "output_type": "execute_result"
    }
   ],
   "source": [
    "X_train = X_scaled\n",
    "coefs = []\n",
    "\n",
    "for alpha in np.linspace(0, 0.25, num=10):\n",
    "    coef = {'alpha': -alpha}\n",
    "    reg = Lasso(alpha=alpha).fit(X_train, y)\n",
    "    for i, c in enumerate(X_train.columns):\n",
    "        coef[c] = reg.coef_[i]\n",
    "    coef['score'] = reg.score(X_train, y)\n",
    "    coefs.append(coef)\n",
    "    print(\"intercept:\",reg.intercept_)\n",
    "\n",
    "coefs_df = pd.DataFrame(coefs).set_index('alpha')\n",
    "coefs_df.head()"
   ]
  },
  {
   "cell_type": "code",
   "execution_count": 71,
   "metadata": {},
   "outputs": [
    {
     "data": {
      "text/plain": [
       "([0, 1, 2, 3, 4, 5, 6, 7, 8, 9, 10], <a list of 11 Text xticklabel objects>)"
      ]
     },
     "execution_count": 71,
     "metadata": {},
     "output_type": "execute_result"
    },
    {
     "data": {
      "image/png": "[encoded data removed]",
      "text/plain": [
       "<Figure size 432x288 with 1 Axes>"
      ]
     },
     "metadata": {
      "needs_background": "light"
     },
     "output_type": "display_data"
    }
   ],
   "source": [
    "plt.bar(x=X_train.columns,height=reg.coef_)\n",
    "plt.xticks(rotation=-90)"
   ]
  },
  {
   "cell_type": "code",
   "execution_count": 155,
   "metadata": {},
   "outputs": [
    {
     "data": {
      "text/plain": [
       "Text(0,0.5,'Scaled Coefficient')"
      ]
     },
     "execution_count": 155,
     "metadata": {},
     "output_type": "execute_result"
    },
    {
     "data": {
      "image/png": "[encoded data removed]",
      "text/plain": [
       "<Figure size 864x432 with 1 Axes>"
      ]
     },
     "metadata": {
      "needs_background": "light"
     },
     "output_type": "display_data"
    }
   ],
   "source": [
    "coefs_df[['score']].plot(figsize=(12, 6))\n",
    "\n",
    "plt.xlabel('Negative Alpha')\n",
    "plt.ylabel('Scaled Coefficient')"
   ]
  },
  {
   "cell_type": "code",
   "execution_count": 154,
   "metadata": {},
   "outputs": [
    {
     "data": {
      "text/plain": [
       "Text(0,0.5,'Scaled Coefficient')"
      ]
     },
     "execution_count": 154,
     "metadata": {},
     "output_type": "execute_result"
    },
    {
     "data": {
      "image/png": "[encoded data removed]",
      "text/plain": [
       "<Figure size 864x432 with 1 Axes>"
      ]
     },
     "metadata": {
      "needs_background": "light"
     },
     "output_type": "display_data"
    }
   ],
   "source": [
    "import seaborn as sns\n",
    "\n",
    "coefs_df.drop('score', axis=1).plot(figsize=(12, 6))\n",
    "plt.xlabel('Negative Alpha')\n",
    "plt.ylabel('Scaled Coefficient')"
   ]
  },
  {
   "cell_type": "code",
   "execution_count": 163,
   "metadata": {},
   "outputs": [
    {
     "name": "stdout",
     "output_type": "stream",
     "text": [
      "Index(['Social support', 'Healthy life expectancy at birth',\n",
      "       'Freedom to make life choices', 'Generosity',\n",
      "       'Perceptions of corruption', 'Positive affect', 'Negative affect',\n",
      "       'Confidence in national government', 'Democratic Quality',\n",
      "       'Delivery Quality',\n",
      "       'Standard deviation of happiness score by country-year',\n",
      "       'Standard deviation/Mean of happiness score by country-year',\n",
      "       'gini of household income reported in Gallup, by wp5-year',\n",
      "       'GDP per capita'],\n",
      "      dtype='object')\n"
     ]
    }
   ],
   "source": [
    "print(X.columns)"
   ]
  },
  {
   "cell_type": "code",
   "execution_count": null,
   "metadata": {},
   "outputs": [],
   "source": []
  }
 ],
 "metadata": {
  "kernelspec": {
   "display_name": "Python 3",
   "language": "python",
   "name": "python3"
  },
  "language_info": {
   "codemirror_mode": {
    "name": "ipython",
    "version": 3
   },
   "file_extension": ".py",
   "mimetype": "text/x-python",
   "name": "python",
   "nbconvert_exporter": "python",
   "pygments_lexer": "ipython3",
   "version": "3.7.0"
  }
 },
 "nbformat": 4,
 "nbformat_minor": 2
}
