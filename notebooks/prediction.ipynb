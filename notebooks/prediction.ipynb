{
 "cells": [
  {
   "cell_type": "code",
   "execution_count": 173,
   "metadata": {},
   "outputs": [],
   "source": [
    "import sklearn"
   ]
  },
  {
   "cell_type": "code",
   "execution_count": 174,
   "metadata": {},
   "outputs": [],
   "source": [
    "import pandas as pd"
   ]
  },
  {
   "cell_type": "code",
   "execution_count": 175,
   "metadata": {},
   "outputs": [
    {
     "data": {
      "text/plain": [
       "Index(['country', 'year', 'Happiness Score', 'Log GDP per capita',\n",
       "       'Social support', 'Healthy life expectancy at birth',\n",
       "       'Freedom to make life choices', 'Generosity',\n",
       "       'Perceptions of corruption', 'Positive affect', 'Negative affect',\n",
       "       'Confidence in national government', 'Democratic Quality',\n",
       "       'Delivery Quality',\n",
       "       'Standard deviation of happiness score by country-year',\n",
       "       'Standard deviation/Mean of happiness score by country-year',\n",
       "       'gini of household income reported in Gallup, by wp5-year',\n",
       "       'GDP per capita'],\n",
       "      dtype='object')"
      ]
     },
     "execution_count": 175,
     "metadata": {},
     "output_type": "execute_result"
    }
   ],
   "source": [
    "data.columns"
   ]
  },
  {
   "cell_type": "code",
   "execution_count": 176,
   "metadata": {},
   "outputs": [],
   "source": [
    "data = pd.read_csv('../input/cleaned_data.csv')\n",
    "data = data.drop(columns=['GINI index (World Bank estimate), average 2000-15'])"
   ]
  },
  {
   "cell_type": "code",
   "execution_count": 184,
   "metadata": {},
   "outputs": [],
   "source": [
    "import math\n",
    "data = data.dropna()\n",
    "gdplog = data['Log GDP per capita'] \n",
    "gdp = gdplog.apply(math.exp)\n",
    "data['GDP per capita'] = gdp\n",
    "X = data.drop(columns=['Happiness Score','country', 'year','Log GDP per capita','Standard deviation of happiness score by country-year',\n",
    "       'Standard deviation/Mean of happiness score by country-year', 'gini of household income reported in Gallup, by wp5-year'])"
   ]
  },
  {
   "cell_type": "code",
   "execution_count": 185,
   "metadata": {},
   "outputs": [
    {
     "name": "stdout",
     "output_type": "stream",
     "text": [
      "Index(['country', 'year', 'Happiness Score', 'Log GDP per capita',\n",
      "       'Social support', 'Healthy life expectancy at birth',\n",
      "       'Freedom to make life choices', 'Generosity',\n",
      "       'Perceptions of corruption', 'Positive affect', 'Negative affect',\n",
      "       'Confidence in national government', 'Democratic Quality',\n",
      "       'Delivery Quality',\n",
      "       'Standard deviation of happiness score by country-year',\n",
      "       'Standard deviation/Mean of happiness score by country-year',\n",
      "       'gini of household income reported in Gallup, by wp5-year',\n",
      "       'GDP per capita'],\n",
      "      dtype='object')\n",
      "Index(['Social support', 'Healthy life expectancy at birth',\n",
      "       'Freedom to make life choices', 'Generosity',\n",
      "       'Perceptions of corruption', 'Positive affect', 'Negative affect',\n",
      "       'Confidence in national government', 'Democratic Quality',\n",
      "       'Delivery Quality', 'GDP per capita'],\n",
      "      dtype='object')\n"
     ]
    }
   ],
   "source": [
    "print(data.columns)\n",
    "print(X.columns)"
   ]
  },
  {
   "cell_type": "code",
   "execution_count": 186,
   "metadata": {},
   "outputs": [],
   "source": [
    "y = data['Happiness Score']"
   ]
  },
  {
   "cell_type": "code",
   "execution_count": null,
   "metadata": {},
   "outputs": [],
   "source": []
  },
  {
   "cell_type": "code",
   "execution_count": 187,
   "metadata": {},
   "outputs": [
    {
     "name": "stdout",
     "output_type": "stream",
     "text": [
      "Social support : 0.24675632381883103\n",
      "Healthy life expectancy at birth : 0.3416826105226218\n",
      "Freedom to make life choices : 0.044107327588166406\n",
      "Generosity : 0.0\n",
      "Perceptions of corruption : -0.026227548042754022\n",
      "Positive affect : 0.23246634744650171\n",
      "Negative affect : -0.0\n",
      "Confidence in national government : -0.014808686938007456\n",
      "Democratic Quality : 0.0\n",
      "Delivery Quality : 0.10353936460556376\n",
      "GDP per capita : 0.19713616607666337\n",
      "intercept: 5.431165826839666\n",
      "Index(['Social support', 'Healthy life expectancy at birth',\n",
      "       'Freedom to make life choices', 'Generosity',\n",
      "       'Perceptions of corruption', 'Positive affect', 'Negative affect',\n",
      "       'Confidence in national government', 'Democratic Quality',\n",
      "       'Delivery Quality', 'GDP per capita'],\n",
      "      dtype='object')\n",
      "                            OLS Regression Results                            \n",
      "==============================================================================\n",
      "Dep. Variable:        Happiness Score   R-squared:                       0.769\n",
      "Model:                            OLS   Adj. R-squared:                  0.767\n",
      "Method:                 Least Squares   F-statistic:                     433.4\n",
      "Date:                Wed, 05 Dec 2018   Prob (F-statistic):               0.00\n",
      "Time:                        23:13:09   Log-Likelihood:                -1180.3\n",
      "No. Observations:                1447   AIC:                             2385.\n",
      "Df Residuals:                    1435   BIC:                             2448.\n",
      "Df Model:                          11                                         \n",
      "Covariance Type:            nonrobust                                         \n",
      "==============================================================================\n",
      "                 coef    std err          t      P>|t|      [0.025      0.975]\n",
      "------------------------------------------------------------------------------\n",
      "const          5.4312      0.014    376.110      0.000       5.403       5.459\n",
      "x1             0.2600      0.022     11.925      0.000       0.217       0.303\n",
      "x2             0.3311      0.024     13.640      0.000       0.284       0.379\n",
      "x3             0.1172      0.023      5.043      0.000       0.072       0.163\n",
      "x4             0.0148      0.017      0.875      0.382      -0.018       0.048\n",
      "x5            -0.1065      0.023     -4.676      0.000      -0.151      -0.062\n",
      "x6             0.2508      0.021     12.227      0.000       0.211       0.291\n",
      "x7             0.0209      0.017      1.247      0.213      -0.012       0.054\n",
      "x8            -0.1486      0.021     -7.173      0.000      -0.189      -0.108\n",
      "x9            -0.0895      0.034     -2.662      0.008      -0.155      -0.024\n",
      "x10            0.1334      0.043      3.108      0.002       0.049       0.218\n",
      "x11            0.2079      0.026      7.854      0.000       0.156       0.260\n",
      "==============================================================================\n",
      "Omnibus:                       18.114   Durbin-Watson:                   0.673\n",
      "Prob(Omnibus):                  0.000   Jarque-Bera (JB):               18.595\n",
      "Skew:                          -0.257   Prob(JB):                     9.17e-05\n",
      "Kurtosis:                       3.211   Cond. No.                         8.02\n",
      "==============================================================================\n",
      "\n",
      "Warnings:\n",
      "[1] Standard Errors assume that the covariance matrix of the errors is correctly specified.\n"
     ]
    }
   ],
   "source": [
    "from sklearn import preprocessing\n",
    "from scipy import stats \n",
    "from sklearn.linear_model import Lasso\n",
    "import statsmodels.api as sm\n",
    "from scipy import stats\n",
    "\n",
    "X_scaled = preprocessing.scale(X)\n",
    "X_2 = sm.add_constant(X_scaled)\n",
    "\n",
    "reg = Lasso(alpha=0.05).fit(X_scaled, y)\n",
    "for idx, name in zip(range(15),X.columns):\n",
    "    print(name, \":\", reg.coef_[idx])\n",
    "print(\"intercept:\",reg.intercept_)\n",
    "\n",
    "est = sm.OLS(y, X_2)\n",
    "est2 = est.fit()\n",
    "print(X.columns)\n",
    "print(est2.summary())\n",
    "\n",
    "\n"
   ]
  },
  {
   "cell_type": "code",
   "execution_count": 188,
   "metadata": {},
   "outputs": [
    {
     "data": {
      "text/plain": [
       "([0, 1, 2, 3, 4, 5, 6, 7, 8, 9, 10], <a list of 11 Text xticklabel objects>)"
      ]
     },
     "execution_count": 188,
     "metadata": {},
     "output_type": "execute_result"
    },
    {
     "data": {
      "image/png": "[encoded data removed]",
      "text/plain": [
       "<Figure size 432x288 with 1 Axes>"
      ]
     },
     "metadata": {
      "needs_background": "light"
     },
     "output_type": "display_data"
    }
   ],
   "source": [
    "import matplotlib.pyplot as plt\n",
    "plt.bar(x=X.columns,height=reg.coef_)\n",
    "plt.xticks(rotation=-90)\n"
   ]
  },
  {
   "cell_type": "code",
   "execution_count": 163,
   "metadata": {},
   "outputs": [
    {
     "name": "stdout",
     "output_type": "stream",
     "text": [
      "Index(['Social support', 'Healthy life expectancy at birth',\n",
      "       'Freedom to make life choices', 'Generosity',\n",
      "       'Perceptions of corruption', 'Positive affect', 'Negative affect',\n",
      "       'Confidence in national government', 'Democratic Quality',\n",
      "       'Delivery Quality',\n",
      "       'Standard deviation of happiness score by country-year',\n",
      "       'Standard deviation/Mean of happiness score by country-year',\n",
      "       'gini of household income reported in Gallup, by wp5-year',\n",
      "       'GDP per capita'],\n",
      "      dtype='object')\n"
     ]
    }
   ],
   "source": [
    "print(X.columns)"
   ]
  },
  {
   "cell_type": "code",
   "execution_count": null,
   "metadata": {},
   "outputs": [],
   "source": []
  }
 ],
 "metadata": {
  "kernelspec": {
   "display_name": "Python 3",
   "language": "python",
   "name": "python3"
  },
  "language_info": {
   "codemirror_mode": {
    "name": "ipython",
    "version": 3
   },
   "file_extension": ".py",
   "mimetype": "text/x-python",
   "name": "python",
   "nbconvert_exporter": "python",
   "pygments_lexer": "ipython3",
   "version": "3.7.0"
  }
 },
 "nbformat": 4,
 "nbformat_minor": 2
}
