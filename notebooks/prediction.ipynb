{
 "cells": [
  {
   "cell_type": "code",
   "execution_count": 53,
   "metadata": {},
   "outputs": [],
   "source": [
    "import sklearn"
   ]
  },
  {
   "cell_type": "code",
   "execution_count": 54,
   "metadata": {},
   "outputs": [],
   "source": [
    "import pandas as pd"
   ]
  },
  {
   "cell_type": "code",
   "execution_count": 55,
   "metadata": {},
   "outputs": [],
   "source": [
    "data = pd.read_csv('../input/cleaned_data.csv')\n",
    "data = data.dropna()"
   ]
  },
  {
   "cell_type": "code",
   "execution_count": 56,
   "metadata": {},
   "outputs": [],
   "source": [
    "y = data['Happiness Score']"
   ]
  },
  {
   "cell_type": "code",
   "execution_count": 57,
   "metadata": {},
   "outputs": [],
   "source": [
    "X = data.iloc[:,3:]"
   ]
  },
  {
   "cell_type": "code",
   "execution_count": 61,
   "metadata": {},
   "outputs": [
    {
     "name": "stdout",
     "output_type": "stream",
     "text": [
      "Index(['Log GDP per capita', 'Social support',\n",
      "       'Healthy life expectancy at birth', 'Freedom to make life choices',\n",
      "       'Generosity', 'Perceptions of corruption', 'Positive affect',\n",
      "       'Negative affect', 'Confidence in national government',\n",
      "       'Democratic Quality', 'Delivery Quality',\n",
      "       'Standard deviation of happiness score by country-year',\n",
      "       'Standard deviation/Mean of happiness score by country-year',\n",
      "       'GINI index (World Bank estimate), average 2000-15',\n",
      "       'gini of household income reported in Gallup, by wp5-year'],\n",
      "      dtype='object')\n",
      "                            OLS Regression Results                            \n",
      "==============================================================================\n",
      "Dep. Variable:        Happiness Score   R-squared:                       0.910\n",
      "Model:                            OLS   Adj. R-squared:                  0.909\n",
      "Method:                 Least Squares   F-statistic:                     901.8\n",
      "Date:                Wed, 05 Dec 2018   Prob (F-statistic):               0.00\n",
      "Time:                        22:12:35   Log-Likelihood:                -456.07\n",
      "No. Observations:                1352   AIC:                             944.1\n",
      "Df Residuals:                    1336   BIC:                             1027.\n",
      "Df Model:                          15                                         \n",
      "Covariance Type:            nonrobust                                         \n",
      "==============================================================================\n",
      "                 coef    std err          t      P>|t|      [0.025      0.975]\n",
      "------------------------------------------------------------------------------\n",
      "const        572.6657     38.498     14.875      0.000     497.142     648.190\n",
      "x1           -83.9372      6.299    -13.324      0.000     -96.295     -71.579\n",
      "x2            -9.4981      7.024     -1.352      0.177     -23.278       4.282\n",
      "x3          -560.2079     37.971    -14.754      0.000    -634.696    -485.720\n",
      "x4            15.3256      6.332      2.420      0.016       2.903      27.748\n",
      "x5            25.4229      4.475      5.681      0.000      16.644      34.202\n",
      "x6           -65.1346      4.679    -13.921      0.000     -74.313     -55.956\n",
      "x7            25.7354      8.543      3.012      0.003       8.976      42.495\n",
      "x8            41.5313      9.374      4.431      0.000      23.143      59.920\n",
      "x9           -34.3251      3.995     -8.593      0.000     -42.161     -26.489\n",
      "x10            8.4122      1.568      5.366      0.000       5.337      11.488\n",
      "x11            7.9490      1.760      4.517      0.000       4.497      11.401\n",
      "x12           87.1148      2.782     31.312      0.000      81.657      92.573\n",
      "x13         -549.0280     10.046    -54.654      0.000    -568.735    -529.321\n",
      "x14          -16.9837      9.487     -1.790      0.074     -35.594       1.627\n",
      "x15          -14.1894      7.048     -2.013      0.044     -28.017      -0.362\n",
      "==============================================================================\n",
      "Omnibus:                      399.058   Durbin-Watson:                   0.591\n",
      "Prob(Omnibus):                  0.000   Jarque-Bera (JB):             2182.697\n",
      "Skew:                           1.262   Prob(JB):                         0.00\n",
      "Kurtosis:                       8.690   Cond. No.                     8.32e+03\n",
      "==============================================================================\n",
      "\n",
      "Warnings:\n",
      "[1] Standard Errors assume that the covariance matrix of the errors is correctly specified.\n",
      "[2] The condition number is large, 8.32e+03. This might indicate that there are\n",
      "strong multicollinearity or other numerical problems.\n"
     ]
    }
   ],
   "source": [
    "from sklearn import preprocessing\n",
    "from scipy import stats \n",
    "from sklearn.linear_model import LinearRegression\n",
    "import statsmodels.api as sm\n",
    "from scipy import stats\n",
    "\n",
    "\n",
    "\n",
    "X_normed = preprocessing.normalize(X)\n",
    "X_normed = sm.add_constant(X_normed)\n",
    "\n",
    "est = sm.OLS(y, X_normed)\n",
    "est2 = est.fit()\n",
    "print(data.columns[3:])\n",
    "print(est2.summary())\n",
    "\n",
    "# reg = LinearRegression().fit(X_normed, y)\n",
    "# for idx, name in zip(range(15),data.columns[3:]):\n",
    "#     print(name, \":\", reg.coef_[idx])\n",
    "# print(\"intercept:\",reg.intercept_)\n",
    "\n"
   ]
  },
  {
   "cell_type": "code",
   "execution_count": 47,
   "metadata": {},
   "outputs": [
    {
     "data": {
      "text/plain": [
       "18"
      ]
     },
     "execution_count": 47,
     "metadata": {},
     "output_type": "execute_result"
    }
   ],
   "source": [
    "len(data.columns)"
   ]
  },
  {
   "cell_type": "code",
   "execution_count": null,
   "metadata": {},
   "outputs": [],
   "source": []
  }
 ],
 "metadata": {
  "kernelspec": {
   "display_name": "Python 3",
   "language": "python",
   "name": "python3"
  },
  "language_info": {
   "codemirror_mode": {
    "name": "ipython",
    "version": 3
   },
   "file_extension": ".py",
   "mimetype": "text/x-python",
   "name": "python",
   "nbconvert_exporter": "python",
   "pygments_lexer": "ipython3",
   "version": "3.7.0"
  }
 },
 "nbformat": 4,
 "nbformat_minor": 2
}
